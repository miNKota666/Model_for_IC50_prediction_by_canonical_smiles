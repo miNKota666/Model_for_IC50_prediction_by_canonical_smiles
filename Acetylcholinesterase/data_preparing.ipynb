{
 "cells": [
  {
   "cell_type": "code",
   "execution_count": 122,
   "metadata": {
    "collapsed": true,
    "ExecuteTime": {
     "end_time": "2023-08-25T08:08:44.440226Z",
     "start_time": "2023-08-25T08:08:44.438148Z"
    }
   },
   "outputs": [],
   "source": [
    "import numpy as np\n",
    "import pandas as pd\n",
    "from dataclasses import dataclass\n",
    "from chembl_webresource_client import new_client\n",
    "import chembl_webresource_client\n",
    "import matplotlib.pyplot as plt\n",
    "import seaborn as sns\n",
    "from pathlib import Path"
   ]
  },
  {
   "cell_type": "code",
   "execution_count": 2,
   "outputs": [],
   "source": [
    "@dataclass\n",
    "class DbQuery:\n",
    "\n",
    "    target: chembl_webresource_client.query_set.QuerySet = new_client.new_client.target\n",
    "    target_query = target.search('Acetylcholinesterase')\n",
    "    targets: pd.DataFrame = pd.DataFrame.from_dict(target_query)\n",
    "    selected_target: str = targets.target_chembl_id[0]"
   ],
   "metadata": {
    "collapsed": false,
    "ExecuteTime": {
     "end_time": "2023-08-25T07:09:27.323058Z",
     "start_time": "2023-08-25T07:09:27.287316Z"
    }
   }
  },
  {
   "cell_type": "code",
   "execution_count": 123,
   "outputs": [],
   "source": [
    "@dataclass\n",
    "class Acetylcholinesterase:\n",
    "    file_path: Path = Path(\"data/activity.pickle\")\n",
    "    target_name: str = DbQuery.targets.target_chembl_id[0]\n",
    "    activity = new_client.new_client.activity\n",
    "    activity = activity.filter(target_chembl_id=target_name).filter(standard_type=\"IC50\")\n",
    "    activity: pd.DataFrame = pd.DataFrame.from_dict(activity)\n",
    "    activity = activity[activity.standard_value.notna()]"
   ],
   "metadata": {
    "collapsed": false,
    "ExecuteTime": {
     "end_time": "2023-08-25T08:09:09.060369Z",
     "start_time": "2023-08-25T08:09:08.389779Z"
    }
   }
  },
  {
   "cell_type": "code",
   "execution_count": 124,
   "outputs": [],
   "source": [
    "Acetylcholinesterase.activity.to_pickle(Acetylcholinesterase.file_path.as_posix())"
   ],
   "metadata": {
    "collapsed": false,
    "ExecuteTime": {
     "end_time": "2023-08-25T08:09:20.417421Z",
     "start_time": "2023-08-25T08:09:20.381618Z"
    }
   }
  },
  {
   "cell_type": "code",
   "execution_count": null,
   "outputs": [],
   "source": [],
   "metadata": {
    "collapsed": false
   }
  }
 ],
 "metadata": {
  "kernelspec": {
   "display_name": "Python 3",
   "language": "python",
   "name": "python3"
  },
  "language_info": {
   "codemirror_mode": {
    "name": "ipython",
    "version": 2
   },
   "file_extension": ".py",
   "mimetype": "text/x-python",
   "name": "python",
   "nbconvert_exporter": "python",
   "pygments_lexer": "ipython2",
   "version": "2.7.6"
  }
 },
 "nbformat": 4,
 "nbformat_minor": 0
}
